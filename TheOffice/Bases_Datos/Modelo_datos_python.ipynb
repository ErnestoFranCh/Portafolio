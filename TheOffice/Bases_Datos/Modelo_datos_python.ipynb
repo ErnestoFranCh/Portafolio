{
 "cells": [
  {
   "cell_type": "markdown",
   "id": "387d668c",
   "metadata": {},
   "source": [
    "# 1. Cargar informacion"
   ]
  },
  {
   "cell_type": "code",
   "execution_count": 1,
   "id": "94e97ed4",
   "metadata": {},
   "outputs": [],
   "source": [
    "import pandas as pd"
   ]
  },
  {
   "cell_type": "code",
   "execution_count": 2,
   "id": "6d7f880a",
   "metadata": {},
   "outputs": [
    {
     "data": {
      "text/html": [
       "<div>\n",
       "<style scoped>\n",
       "    .dataframe tbody tr th:only-of-type {\n",
       "        vertical-align: middle;\n",
       "    }\n",
       "\n",
       "    .dataframe tbody tr th {\n",
       "        vertical-align: top;\n",
       "    }\n",
       "\n",
       "    .dataframe thead th {\n",
       "        text-align: right;\n",
       "    }\n",
       "</style>\n",
       "<table border=\"1\" class=\"dataframe\">\n",
       "  <thead>\n",
       "    <tr style=\"text-align: right;\">\n",
       "      <th></th>\n",
       "      <th>Row ID</th>\n",
       "      <th>Order ID</th>\n",
       "      <th>Order Date</th>\n",
       "      <th>Ship Date</th>\n",
       "      <th>Ship Mode</th>\n",
       "      <th>Customer ID</th>\n",
       "      <th>Customer Name</th>\n",
       "      <th>Segment</th>\n",
       "      <th>Country</th>\n",
       "      <th>City</th>\n",
       "      <th>...</th>\n",
       "      <th>Retail Sales People</th>\n",
       "      <th>Product ID</th>\n",
       "      <th>Category</th>\n",
       "      <th>Sub-Category</th>\n",
       "      <th>Product Name</th>\n",
       "      <th>Returned</th>\n",
       "      <th>Sales</th>\n",
       "      <th>Quantity</th>\n",
       "      <th>Discount</th>\n",
       "      <th>Profit</th>\n",
       "    </tr>\n",
       "  </thead>\n",
       "  <tbody>\n",
       "    <tr>\n",
       "      <th>0</th>\n",
       "      <td>646</td>\n",
       "      <td>CA-2017-126221</td>\n",
       "      <td>2017-12-30</td>\n",
       "      <td>2018-05-01</td>\n",
       "      <td>Standard Class</td>\n",
       "      <td>CC-12430</td>\n",
       "      <td>Chuck Clark</td>\n",
       "      <td>Home Office</td>\n",
       "      <td>United States</td>\n",
       "      <td>Columbus</td>\n",
       "      <td>...</td>\n",
       "      <td>Kelly Williams</td>\n",
       "      <td>OFF-AP-10002457</td>\n",
       "      <td>Office Supplies</td>\n",
       "      <td>Appliances</td>\n",
       "      <td>Eureka The Boss Plus 12-Amp Hard Box Upright V...</td>\n",
       "      <td>Not</td>\n",
       "      <td>209.300</td>\n",
       "      <td>2</td>\n",
       "      <td>0.0</td>\n",
       "      <td>125.5800</td>\n",
       "    </tr>\n",
       "    <tr>\n",
       "      <th>1</th>\n",
       "      <td>5132</td>\n",
       "      <td>CA-2017-146626</td>\n",
       "      <td>2017-12-29</td>\n",
       "      <td>2018-05-01</td>\n",
       "      <td>Standard Class</td>\n",
       "      <td>BP-11185</td>\n",
       "      <td>Ben Peterman</td>\n",
       "      <td>Corporate</td>\n",
       "      <td>United States</td>\n",
       "      <td>Anaheim</td>\n",
       "      <td>...</td>\n",
       "      <td>Anna Andreadi</td>\n",
       "      <td>FUR-FU-10002501</td>\n",
       "      <td>Furniture</td>\n",
       "      <td>Furnishings</td>\n",
       "      <td>Nu-Dell Executive Frame</td>\n",
       "      <td>Not</td>\n",
       "      <td>101.120</td>\n",
       "      <td>8</td>\n",
       "      <td>0.0</td>\n",
       "      <td>60.6720</td>\n",
       "    </tr>\n",
       "    <tr>\n",
       "      <th>2</th>\n",
       "      <td>571</td>\n",
       "      <td>CA-2017-164826</td>\n",
       "      <td>2017-12-28</td>\n",
       "      <td>2018-04-01</td>\n",
       "      <td>Standard Class</td>\n",
       "      <td>JF-15415</td>\n",
       "      <td>Jennifer Ferguson</td>\n",
       "      <td>Consumer</td>\n",
       "      <td>United States</td>\n",
       "      <td>New York City</td>\n",
       "      <td>...</td>\n",
       "      <td>Chuck Magee</td>\n",
       "      <td>OFF-LA-10001297</td>\n",
       "      <td>Office Supplies</td>\n",
       "      <td>Labels</td>\n",
       "      <td>Avery 473</td>\n",
       "      <td>Not</td>\n",
       "      <td>72.450</td>\n",
       "      <td>7</td>\n",
       "      <td>0.0</td>\n",
       "      <td>43.4700</td>\n",
       "    </tr>\n",
       "    <tr>\n",
       "      <th>3</th>\n",
       "      <td>572</td>\n",
       "      <td>CA-2017-164826</td>\n",
       "      <td>2017-12-28</td>\n",
       "      <td>2018-04-01</td>\n",
       "      <td>Standard Class</td>\n",
       "      <td>JF-15415</td>\n",
       "      <td>Jennifer Ferguson</td>\n",
       "      <td>Consumer</td>\n",
       "      <td>United States</td>\n",
       "      <td>New York City</td>\n",
       "      <td>...</td>\n",
       "      <td>Chuck Magee</td>\n",
       "      <td>OFF-FA-10000585</td>\n",
       "      <td>Office Supplies</td>\n",
       "      <td>Fasteners</td>\n",
       "      <td>OIC Bulk Pack Metal Binder Clips</td>\n",
       "      <td>Not</td>\n",
       "      <td>13.960</td>\n",
       "      <td>4</td>\n",
       "      <td>0.0</td>\n",
       "      <td>8.3760</td>\n",
       "    </tr>\n",
       "    <tr>\n",
       "      <th>4</th>\n",
       "      <td>573</td>\n",
       "      <td>CA-2017-164826</td>\n",
       "      <td>2017-12-28</td>\n",
       "      <td>2018-04-01</td>\n",
       "      <td>Standard Class</td>\n",
       "      <td>JF-15415</td>\n",
       "      <td>Jennifer Ferguson</td>\n",
       "      <td>Consumer</td>\n",
       "      <td>United States</td>\n",
       "      <td>New York City</td>\n",
       "      <td>...</td>\n",
       "      <td>Chuck Magee</td>\n",
       "      <td>OFF-BI-10001922</td>\n",
       "      <td>Office Supplies</td>\n",
       "      <td>Binders</td>\n",
       "      <td>Storex Dura Pro Binders</td>\n",
       "      <td>Not</td>\n",
       "      <td>33.264</td>\n",
       "      <td>7</td>\n",
       "      <td>0.2</td>\n",
       "      <td>19.9584</td>\n",
       "    </tr>\n",
       "  </tbody>\n",
       "</table>\n",
       "<p>5 rows × 23 columns</p>\n",
       "</div>"
      ],
      "text/plain": [
       "   Row ID        Order ID Order Date  Ship Date       Ship Mode Customer ID  \\\n",
       "0     646  CA-2017-126221 2017-12-30 2018-05-01  Standard Class    CC-12430   \n",
       "1    5132  CA-2017-146626 2017-12-29 2018-05-01  Standard Class    BP-11185   \n",
       "2     571  CA-2017-164826 2017-12-28 2018-04-01  Standard Class    JF-15415   \n",
       "3     572  CA-2017-164826 2017-12-28 2018-04-01  Standard Class    JF-15415   \n",
       "4     573  CA-2017-164826 2017-12-28 2018-04-01  Standard Class    JF-15415   \n",
       "\n",
       "       Customer Name      Segment        Country           City  ...  \\\n",
       "0        Chuck Clark  Home Office  United States       Columbus  ...   \n",
       "1       Ben Peterman    Corporate  United States        Anaheim  ...   \n",
       "2  Jennifer Ferguson     Consumer  United States  New York City  ...   \n",
       "3  Jennifer Ferguson     Consumer  United States  New York City  ...   \n",
       "4  Jennifer Ferguson     Consumer  United States  New York City  ...   \n",
       "\n",
       "  Retail Sales People       Product ID         Category Sub-Category  \\\n",
       "0      Kelly Williams  OFF-AP-10002457  Office Supplies   Appliances   \n",
       "1       Anna Andreadi  FUR-FU-10002501        Furniture  Furnishings   \n",
       "2         Chuck Magee  OFF-LA-10001297  Office Supplies       Labels   \n",
       "3         Chuck Magee  OFF-FA-10000585  Office Supplies    Fasteners   \n",
       "4         Chuck Magee  OFF-BI-10001922  Office Supplies      Binders   \n",
       "\n",
       "                                        Product Name Returned    Sales  \\\n",
       "0  Eureka The Boss Plus 12-Amp Hard Box Upright V...      Not  209.300   \n",
       "1                            Nu-Dell Executive Frame      Not  101.120   \n",
       "2                                          Avery 473      Not   72.450   \n",
       "3                   OIC Bulk Pack Metal Binder Clips      Not   13.960   \n",
       "4                            Storex Dura Pro Binders      Not   33.264   \n",
       "\n",
       "  Quantity Discount    Profit  \n",
       "0        2      0.0  125.5800  \n",
       "1        8      0.0   60.6720  \n",
       "2        7      0.0   43.4700  \n",
       "3        4      0.0    8.3760  \n",
       "4        7      0.2   19.9584  \n",
       "\n",
       "[5 rows x 23 columns]"
      ]
     },
     "execution_count": 2,
     "metadata": {},
     "output_type": "execute_result"
    }
   ],
   "source": [
    "path = r'C:\\Users\\Ernes\\OneDrive\\Documents\\Portafolio\\north-america-retail-supply-chain-sales\\north-america-retail-supply-chain-sales.xlsx'\n",
    "df = pd.read_excel(path)\n",
    "df.head()"
   ]
  },
  {
   "cell_type": "code",
   "execution_count": 3,
   "id": "73543a87",
   "metadata": {},
   "outputs": [
    {
     "name": "stdout",
     "output_type": "stream",
     "text": [
      "<class 'pandas.core.frame.DataFrame'>\n",
      "RangeIndex: 9994 entries, 0 to 9993\n",
      "Data columns (total 23 columns):\n",
      " #   Column               Non-Null Count  Dtype         \n",
      "---  ------               --------------  -----         \n",
      " 0   Row ID               9994 non-null   int64         \n",
      " 1   Order ID             9994 non-null   object        \n",
      " 2   Order Date           9994 non-null   datetime64[ns]\n",
      " 3   Ship Date            9994 non-null   datetime64[ns]\n",
      " 4   Ship Mode            9994 non-null   object        \n",
      " 5   Customer ID          9994 non-null   object        \n",
      " 6   Customer Name        9994 non-null   object        \n",
      " 7   Segment              9994 non-null   object        \n",
      " 8   Country              9994 non-null   object        \n",
      " 9   City                 9994 non-null   object        \n",
      " 10  State                9994 non-null   object        \n",
      " 11  Postal Code          9994 non-null   int64         \n",
      " 12  Region               9994 non-null   object        \n",
      " 13  Retail Sales People  9994 non-null   object        \n",
      " 14  Product ID           9994 non-null   object        \n",
      " 15  Category             9994 non-null   object        \n",
      " 16  Sub-Category         9994 non-null   object        \n",
      " 17  Product Name         9994 non-null   object        \n",
      " 18  Returned             9994 non-null   object        \n",
      " 19  Sales                9994 non-null   float64       \n",
      " 20  Quantity             9994 non-null   int64         \n",
      " 21  Discount             9987 non-null   float64       \n",
      " 22  Profit               9994 non-null   float64       \n",
      "dtypes: datetime64[ns](2), float64(3), int64(3), object(15)\n",
      "memory usage: 1.8+ MB\n"
     ]
    }
   ],
   "source": [
    "df.info()"
   ]
  },
  {
   "cell_type": "markdown",
   "id": "2b1f50ef",
   "metadata": {},
   "source": [
    "# 2. Limpieza"
   ]
  },
  {
   "cell_type": "markdown",
   "id": "49fcca2c",
   "metadata": {},
   "source": [
    "## 2.1 Valores duplicados"
   ]
  },
  {
   "cell_type": "code",
   "execution_count": 4,
   "id": "ba93695e",
   "metadata": {},
   "outputs": [
    {
     "data": {
      "text/plain": [
       "False"
      ]
     },
     "execution_count": 4,
     "metadata": {},
     "output_type": "execute_result"
    }
   ],
   "source": [
    "df.duplicated().any()"
   ]
  },
  {
   "cell_type": "markdown",
   "id": "37651c46",
   "metadata": {},
   "source": [
    "## 2.2 Valores nulos."
   ]
  },
  {
   "cell_type": "code",
   "execution_count": 5,
   "id": "653d7dc6",
   "metadata": {},
   "outputs": [
    {
     "data": {
      "text/plain": [
       "Row ID                 0\n",
       "Order ID               0\n",
       "Order Date             0\n",
       "Ship Date              0\n",
       "Ship Mode              0\n",
       "Customer ID            0\n",
       "Customer Name          0\n",
       "Segment                0\n",
       "Country                0\n",
       "City                   0\n",
       "State                  0\n",
       "Postal Code            0\n",
       "Region                 0\n",
       "Retail Sales People    0\n",
       "Product ID             0\n",
       "Category               0\n",
       "Sub-Category           0\n",
       "Product Name           0\n",
       "Returned               0\n",
       "Sales                  0\n",
       "Quantity               0\n",
       "Discount               7\n",
       "Profit                 0\n",
       "dtype: int64"
      ]
     },
     "execution_count": 5,
     "metadata": {},
     "output_type": "execute_result"
    }
   ],
   "source": [
    "df.isnull().sum()"
   ]
  },
  {
   "cell_type": "markdown",
   "id": "df735d8d",
   "metadata": {},
   "source": [
    "Existen 7 valores nulos en la columna discount, esto quiere decir que esos siete registros no tuvieron descuentos por lo que se llenaran con el valor ``0``."
   ]
  },
  {
   "cell_type": "code",
   "execution_count": 6,
   "id": "e93f5e98",
   "metadata": {},
   "outputs": [],
   "source": [
    "df.fillna({'Discount':0}, inplace=True)"
   ]
  },
  {
   "cell_type": "code",
   "execution_count": 7,
   "id": "0037af26",
   "metadata": {},
   "outputs": [],
   "source": [
    "#Columnas de interés como tablas de Dimensión\n",
    "columnas = [\n",
    "\n",
    "    \"Order ID\",\n",
    "    \"Ship Mode\",\n",
    "    \"Customer ID\",\n",
    "    \"Customer Name\",\n",
    "    \"Segment\",\n",
    "    \"Country\",\n",
    "    \"City\",\n",
    "    \"State\",\n",
    "    \"Postal Code\",\n",
    "    \"Region\",\n",
    "    \"Retail Sales People\",\n",
    "    \"Product ID\",\n",
    "    \"Category\",\n",
    "    \"Sub-Category\",\n",
    "    \"Product Name\"\n",
    "]\n"
   ]
  },
  {
   "cell_type": "code",
   "execution_count": 8,
   "id": "1ca2ece4",
   "metadata": {},
   "outputs": [],
   "source": [
    "valores_unicos = {}\n",
    "for col in columnas:\n",
    "    valores_unicos[col] = df[col].nunique()"
   ]
  },
  {
   "cell_type": "code",
   "execution_count": 9,
   "id": "a6ed6f3c",
   "metadata": {},
   "outputs": [
    {
     "data": {
      "text/plain": [
       "{'Order ID': 5009,\n",
       " 'Ship Mode': 4,\n",
       " 'Customer ID': 793,\n",
       " 'Customer Name': 793,\n",
       " 'Segment': 3,\n",
       " 'Country': 1,\n",
       " 'City': 531,\n",
       " 'State': 49,\n",
       " 'Postal Code': 631,\n",
       " 'Region': 4,\n",
       " 'Retail Sales People': 4,\n",
       " 'Product ID': 1862,\n",
       " 'Category': 3,\n",
       " 'Sub-Category': 17,\n",
       " 'Product Name': 1850}"
      ]
     },
     "execution_count": 9,
     "metadata": {},
     "output_type": "execute_result"
    }
   ],
   "source": [
    "valores_unicos"
   ]
  },
  {
   "cell_type": "markdown",
   "id": "f2cb6016",
   "metadata": {},
   "source": [
    "Crearemos un modelo de datos con las siguientes tablas de dimension."
   ]
  },
  {
   "cell_type": "markdown",
   "id": "aa8b19ad",
   "metadata": {},
   "source": [
    "# 3. Modelo de datos."
   ]
  },
  {
   "cell_type": "markdown",
   "id": "51aaa14d",
   "metadata": {},
   "source": [
    "Crearemos nuestro modelo de datos según la Normalización de bases de datos."
   ]
  },
  {
   "cell_type": "code",
   "execution_count": 10,
   "id": "f4f02106",
   "metadata": {},
   "outputs": [],
   "source": [
    "def map_column_from_dimension(df, source_col, dim_df, dim_key_col, dim_id_col, new_col_name):\n",
    "    \"\"\"\n",
    "    Reemplaza valores de df[source_col] con IDs desde una tabla de dimensión.\n",
    "    \n",
    "    Parámetros:\n",
    "    - df: DataFrame origen (tabla de hechos)\n",
    "    - source_col: columna en df a mapear\n",
    "    - dim_df: DataFrame de dimensión\n",
    "    - dim_key_col: columna clave en la tabla de dimensión (ej: 'Seller Name')\n",
    "    - dim_id_col: columna con el ID a traer (ej: 'IDSeller')\n",
    "    - new_col_name: nombre de la nueva columna en df\n",
    "    \"\"\"\n",
    "    mapping_dict = dim_df.set_index(dim_key_col)[dim_id_col]\n",
    "    df[new_col_name] = df[source_col].map(mapping_dict)\n",
    "\n",
    "    return df"
   ]
  },
  {
   "cell_type": "markdown",
   "id": "0e97e91f",
   "metadata": {},
   "source": [
    "## 3.1 Tablas de dimension."
   ]
  },
  {
   "cell_type": "code",
   "execution_count": 11,
   "id": "ebfd1954",
   "metadata": {},
   "outputs": [],
   "source": [
    "#col: 'Ship Mode'\n",
    "DimShip = pd.DataFrame({\n",
    "    'IDShip': list(range(1, 5)),\n",
    "    'Ship Mode': list(df['Ship Mode'].unique())\n",
    "})"
   ]
  },
  {
   "cell_type": "code",
   "execution_count": 12,
   "id": "85463247",
   "metadata": {},
   "outputs": [],
   "source": [
    "# col : 'Retail Sales People' \n",
    "DimSellers = pd.DataFrame({\n",
    "    'IDSeller': list(range(1,5)),\n",
    "    'Seller Name': list(df['Retail Sales People'].unique())\n",
    "}) "
   ]
  },
  {
   "cell_type": "code",
   "execution_count": 13,
   "id": "0329be93",
   "metadata": {},
   "outputs": [],
   "source": [
    "# col : 'Segment' \n",
    "DimSegment = pd.DataFrame({\n",
    "    'IDSegment' : list(range(1,4)),\n",
    "    'Segment': list(df['Segment'].unique())\n",
    "})"
   ]
  },
  {
   "cell_type": "code",
   "execution_count": 14,
   "id": "5fc375aa",
   "metadata": {},
   "outputs": [],
   "source": [
    "# col: 'Customer ID'\n",
    "DimCustomers =  df[['Customer ID', 'Customer Name']].copy()\n",
    "DimCustomers = DimCustomers.drop_duplicates()"
   ]
  },
  {
   "cell_type": "code",
   "execution_count": 15,
   "id": "185a381f",
   "metadata": {},
   "outputs": [],
   "source": [
    "# cols : Info sobre la region\n",
    "DimRegion = df[['Postal Code', 'Country', 'City', 'State', 'Region']].copy()\n",
    "DimRegion = DimRegion.drop_duplicates(subset=['Postal Code'])"
   ]
  },
  {
   "cell_type": "code",
   "execution_count": 16,
   "id": "a0507cf9",
   "metadata": {},
   "outputs": [],
   "source": [
    "\n",
    "DimProducts = df[['Product ID','Product Name', 'Category', 'Sub-Category']].copy()\n",
    "DimProducts = DimProducts.drop_duplicates(subset=['Product ID'])"
   ]
  },
  {
   "cell_type": "markdown",
   "id": "19526985",
   "metadata": {},
   "source": [
    "## 3.2 Tablas de Hechos."
   ]
  },
  {
   "cell_type": "code",
   "execution_count": 17,
   "id": "f995a280",
   "metadata": {},
   "outputs": [],
   "source": [
    "# Mapear Seller\n",
    "df = map_column_from_dimension(df, 'Retail Sales People', DimSellers, 'Seller Name', 'IDSeller', 'IDSeller')\n",
    "\n",
    "# Mapear Ship Mode\n",
    "df = map_column_from_dimension(df, 'Ship Mode', DimShip, 'Ship Mode', 'IDShip', 'IDShip')\n",
    "\n",
    "# Mapear Segment\n",
    "df =map_column_from_dimension(df,'Segment',DimSegment,'Segment','IDSegment','IDSegment')"
   ]
  },
  {
   "cell_type": "code",
   "execution_count": 18,
   "id": "a550582d",
   "metadata": {},
   "outputs": [],
   "source": [
    "FactTransaction = df[['Order ID','Customer ID','IDSeller','Order Date','Ship Date','Postal Code','IDShip','IDSegment','Returned']].copy()\n",
    "FactTransaction = FactTransaction.drop_duplicates()\n",
    "\n",
    "FactSales = df[['Order ID','Product ID','Sales','Quantity','Discount','Profit']].copy()\n",
    "FactSales = FactSales.drop_duplicates()"
   ]
  },
  {
   "cell_type": "markdown",
   "id": "2c3fd431",
   "metadata": {},
   "source": [
    "# 4. Exportar informacion"
   ]
  },
  {
   "cell_type": "markdown",
   "id": "0bf548b2",
   "metadata": {},
   "source": [
    "## 4.1 Tablas de Hecho"
   ]
  },
  {
   "cell_type": "code",
   "execution_count": 19,
   "id": "14aa606f",
   "metadata": {},
   "outputs": [],
   "source": [
    "FactTransaction.to_csv('FactTransaction.csv',index=False)\n",
    "FactSales.to_csv('FactSales.csv',index=False)"
   ]
  },
  {
   "cell_type": "markdown",
   "id": "05075011",
   "metadata": {},
   "source": [
    "## 4.2 Tablas de Dimensión"
   ]
  },
  {
   "cell_type": "code",
   "execution_count": null,
   "id": "b715d151",
   "metadata": {},
   "outputs": [],
   "source": [
    "DimShip.to_csv('DimShip.csv',index=False)\n",
    "DimSellers.to_csv('DimSellers.csv',index=False)\n",
    "DimSegment.to_csv('DimSegment.csv',index=False)\n",
    "DimCustomers.to_csv('DimCustomers.csv',index=False)\n",
    "DimRegion.to_csv('DimRegion.csv',index=False)\n",
    "DimProducts.to_csv('DimProducts.csv',index=False)"
   ]
  }
 ],
 "metadata": {
  "kernelspec": {
   "display_name": "base",
   "language": "python",
   "name": "python3"
  },
  "language_info": {
   "codemirror_mode": {
    "name": "ipython",
    "version": 3
   },
   "file_extension": ".py",
   "mimetype": "text/x-python",
   "name": "python",
   "nbconvert_exporter": "python",
   "pygments_lexer": "ipython3",
   "version": "3.11.3"
  }
 },
 "nbformat": 4,
 "nbformat_minor": 5
}

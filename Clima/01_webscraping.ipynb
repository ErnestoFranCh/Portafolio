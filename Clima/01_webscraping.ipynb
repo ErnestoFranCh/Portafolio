{
 "cells": [
  {
   "cell_type": "code",
   "execution_count": null,
   "id": "7da26f61",
   "metadata": {},
   "outputs": [],
   "source": [
    "!pip install selenium\n",
    "!apt-get update"
   ]
  },
  {
   "cell_type": "code",
   "execution_count": null,
   "id": "17928821",
   "metadata": {},
   "outputs": [],
   "source": [
    "from selenium import webdriver\n",
    "from selenium.webdriver.common.by import By\n",
    "import time\n",
    "import requests\n",
    "from bs4 import BeautifulSoup\n",
    "import pandas as pd"
   ]
  },
  {
   "cell_type": "code",
   "execution_count": null,
   "id": "236bf6a8",
   "metadata": {},
   "outputs": [],
   "source": [
    "def web_driver():\n",
    "    options = webdriver.ChromeOptions()\n",
    "    options.add_argument(\"--verbose\")\n",
    "    options.add_argument('--no-sandbox')\n",
    "    options.add_argument('--headless')\n",
    "    options.add_argument('--disable-gpu')\n",
    "    options.add_argument(\"--window-size=1920, 1200\")\n",
    "    options.add_argument('--disable-dev-shm-usage')\n",
    "    driver = webdriver.Chrome(options=options)\n",
    "    return driver"
   ]
  },
  {
   "cell_type": "code",
   "execution_count": null,
   "id": "6d5e22e5",
   "metadata": {},
   "outputs": [],
   "source": [
    "# URL de consulta (octubre 2024)\n",
    "url = 'https://www.timeanddate.com/weather/mexico/mexico-city/historic?month=10&year=2024'\n",
    "\n",
    "# Solicitud inicial con requests\n",
    "response = requests.get(url)\n",
    "if response.status_code == 200:\n",
    "    response.encoding = 'utf-8'\n",
    "    soup = BeautifulSoup(response.text, 'html.parser')"
   ]
  },
  {
   "cell_type": "code",
   "execution_count": null,
   "id": "35b2e586",
   "metadata": {},
   "outputs": [],
   "source": [
    "# Extraer los links de días disponibles\n",
    "dia = soup.find('div', attrs={'class': 'weatherLinks'})\n",
    "days = dia.find_all('a')\n",
    "links = [day.text for day in days]"
   ]
  },
  {
   "cell_type": "code",
   "execution_count": null,
   "id": "be27be68",
   "metadata": {},
   "outputs": [],
   "source": [
    "# Iniciar Selenium\n",
    "driver = web_driver()\n",
    "driver.get(url)"
   ]
  },
  {
   "cell_type": "code",
   "execution_count": null,
   "id": "23a729d0",
   "metadata": {},
   "outputs": [],
   "source": [
    "# Lista para almacenar los datos\n",
    "data_list = []\n",
    "\n",
    "# Loop principal con respaldo cada 10 iteraciones\n",
    "for idx, dia in enumerate(links, start=1):\n",
    "    try:\n",
    "        # Encontrar y hacer clic en el enlace del día\n",
    "        enlace = driver.find_element(By.XPATH, f'//a[text()='{dia}']')\n",
    "        enlace.click()\n",
    "        time.sleep(3)  # esperar a que cargue la tabla\n",
    "\n",
    "        # Obtener HTML de la tabla\n",
    "        html_table = driver.find_element(By.ID, \"wt-his\").get_attribute(\"outerHTML\")\n",
    "        soup = BeautifulSoup(html_table, 'html.parser')\n",
    "        tabla = soup.find('table')\n",
    "\n",
    "        # Extraer filas\n",
    "        for fila in tabla.find_all('tr')[1:]:\n",
    "            celdas = [celda.text for celda in fila.find_all('td')]\n",
    "            data_list.append(celdas)\n",
    "\n",
    "        # Guardar copia de seguridad cada 10 iteraciones\n",
    "        if idx % 10 == 0:\n",
    "            backup_name = f'weather_backup_{idx}.xlsx'\n",
    "            pd.DataFrame(data_list).to_excel(backup_name, index=False)\n",
    "            print(f'Copia de seguridad guardada: {backup_name}')\n",
    "\n",
    "    except Exception as e:\n",
    "        print(f'Error en el día {dia}: {e}')"
   ]
  },
  {
   "cell_type": "code",
   "execution_count": null,
   "id": "71283592",
   "metadata": {},
   "outputs": [],
   "source": [
    "# Guardado final\n",
    "pd.DataFrame(data_list).to_excel('weather.xlsx', index=False)\n",
    "print('Archivo final guardado: weather.xlsx')"
   ]
  }
 ],
 "metadata": {
  "kernelspec": {
   "display_name": "base",
   "language": "python",
   "name": "python3"
  },
  "language_info": {
   "name": "python",
   "version": "3.11.3"
  }
 },
 "nbformat": 4,
 "nbformat_minor": 5
}

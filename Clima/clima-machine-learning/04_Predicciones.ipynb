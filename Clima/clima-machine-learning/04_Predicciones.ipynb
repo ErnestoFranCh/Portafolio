{
 "cells": [
  {
   "cell_type": "code",
   "execution_count": 2,
   "id": "5da14ac2",
   "metadata": {},
   "outputs": [],
   "source": [
    "import joblib\n",
    "import numpy as np"
   ]
  },
  {
   "cell_type": "code",
   "execution_count": 4,
   "id": "0cdee123",
   "metadata": {},
   "outputs": [],
   "source": [
    "# Cargar el modelo y el escalador\n",
    "modelo_final = joblib.load(\"modelo_temperatura.pkl\")\n",
    "escalador = joblib.load(\"scaler.pkl\")"
   ]
  },
  {
   "cell_type": "code",
   "execution_count": 8,
   "id": "f5aa5099",
   "metadata": {},
   "outputs": [],
   "source": [
    "#Dato hoy 04/01/2025 (Pueden actualizarse para hacer una prediccion)\n",
    "#Temperatura hoy 20 ºC\n",
    "nuevo_dato = np.array([[22, 1027,11,0.38]])"
   ]
  },
  {
   "cell_type": "code",
   "execution_count": 9,
   "id": "d8ccc8d0",
   "metadata": {},
   "outputs": [
    {
     "name": "stderr",
     "output_type": "stream",
     "text": [
      "c:\\Users\\Ernes\\anaconda3\\Lib\\site-packages\\sklearn\\utils\\validation.py:2749: UserWarning: X does not have valid feature names, but StandardScaler was fitted with feature names\n",
      "  warnings.warn(\n"
     ]
    }
   ],
   "source": [
    "dato_escalado = escalador.transform(nuevo_dato)"
   ]
  },
  {
   "cell_type": "code",
   "execution_count": 18,
   "id": "1b1a5ac0",
   "metadata": {},
   "outputs": [
    {
     "name": "stdout",
     "output_type": "stream",
     "text": [
      "Temperatura hoy 04/01/2025: 20ºC\n",
      "Temperatura predicha: 21ºC\n"
     ]
    }
   ],
   "source": [
    "prediccion = modelo_final.predict(dato_escalado)\n",
    "prediccion_valor = round(prediccion[0])\n",
    "print(f'Temperatura hoy 04/01/2025: 20ºC\\nTemperatura predicha: {prediccion_valor}ºC')"
   ]
  }
 ],
 "metadata": {
  "kernelspec": {
   "display_name": "base",
   "language": "python",
   "name": "python3"
  },
  "language_info": {
   "codemirror_mode": {
    "name": "ipython",
    "version": 3
   },
   "file_extension": ".py",
   "mimetype": "text/x-python",
   "name": "python",
   "nbconvert_exporter": "python",
   "pygments_lexer": "ipython3",
   "version": "3.11.3"
  }
 },
 "nbformat": 4,
 "nbformat_minor": 5
}

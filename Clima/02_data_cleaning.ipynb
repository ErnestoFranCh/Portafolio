{
 "cells": [
  {
   "cell_type": "markdown",
   "id": "979e7d5e",
   "metadata": {},
   "source": [
    "# Limpieza y transformación de datos meteorológicos"
   ]
  },
  {
   "cell_type": "code",
   "execution_count": null,
   "id": "48b3ae56",
   "metadata": {},
   "outputs": [],
   "source": [
    "import pandas as pd"
   ]
  },
  {
   "cell_type": "markdown",
   "id": "45222652",
   "metadata": {},
   "source": [
    "# 1. Cargar archivo original"
   ]
  },
  {
   "cell_type": "code",
   "execution_count": null,
   "id": "7ce02661",
   "metadata": {},
   "outputs": [],
   "source": [
    "file_path = r\"E:\\Downloads\\weather (2).xlsx\"   # Cambia por tu ruta real\n",
    "\n",
    "columns = [\n",
    "    \"Unused\", \"Temperature (°F)\", \"Condition\", \"Wind Speed (mph)\", \"Direction\",\n",
    "    \"Humidity (%)\", \"Pressure (Hg)\", \"Visibility (mi)\"\n",
    "]\n",
    "\n",
    "# Cargar el dataset, ignorando la primera fila (encabezado irregular)\n",
    "df = pd.read_excel(file_path, header=1, names=columns)"
   ]
  },
  {
   "cell_type": "markdown",
   "id": "b52fc129",
   "metadata": {},
   "source": [
    "# 2. Limpieza inicial"
   ]
  },
  {
   "cell_type": "code",
   "execution_count": null,
   "id": "390f8791",
   "metadata": {},
   "outputs": [],
   "source": [
    "df = df.drop(columns=[\"Unused\"])  # eliminar columna sin uso\n",
    "df = df.dropna(how=\"all\")         # eliminar filas vacías"
   ]
  },
  {
   "cell_type": "markdown",
   "id": "58e5419c",
   "metadata": {},
   "source": [
    "# 3. Conversión de unidades"
   ]
  },
  {
   "cell_type": "code",
   "execution_count": null,
   "id": "9790baab",
   "metadata": {},
   "outputs": [],
   "source": [
    "# Temperatura\n",
    "df[\"Temperature (°F)\"] = (\n",
    "    df[\"Temperature (°F)\"]\n",
    "    .str.replace(\"°F\", \"\", regex=False)\n",
    "    .str.strip()\n",
    "    .astype(float)\n",
    ")\n",
    "df[\"Temperature (°C)\"] = (df[\"Temperature (°F)\"] - 32) * 5 / 9\n",
    "\n",
    "# Velocidad del viento\n",
    "df[\"Wind Speed (mph)\"] = (\n",
    "    df[\"Wind Speed (mph)\"]\n",
    "    .str.replace(\"mph\", \"\", regex=False)\n",
    "    .str.strip()\n",
    "    .replace(\"No wind\", \"0\")\n",
    "    .astype(float)\n",
    ")\n",
    "df[\"Wind Speed (km/h)\"] = df[\"Wind Speed (mph)\"] * 1.60934\n",
    "\n",
    "# Presión\n",
    "df[\"Pressure (Hg)\"] = (\n",
    "    df[\"Pressure (Hg)\"]\n",
    "    .str.replace('\"Hg', \"\", regex=False)\n",
    "    .str.strip()\n",
    "    .astype(float)\n",
    ")\n",
    "df[\"Pressure (hPa)\"] = df[\"Pressure (Hg)\"] * 33.8639\n",
    "\n",
    "# Visibilidad\n",
    "df[\"Visibility (mi)\"] = (\n",
    "    df[\"Visibility (mi)\"]\n",
    "    .str.replace(\"mi\", \"\", regex=False)\n",
    "    .str.strip()\n",
    "    .astype(float)\n",
    ")\n",
    "df[\"Visibility (km)\"] = df[\"Visibility (mi)\"] * 1.60934\n",
    "\n",
    "# Humedad\n",
    "df[\"Humidity (%)\"] = (\n",
    "    df[\"Humidity (%)\"]\n",
    "    .str.replace(\"%\", \"\", regex=False)\n",
    "    .str.strip()\n",
    "    .astype(float)\n",
    ")\n",
    "df[\"Humidity\"] = df[\"Humidity (%)\"] / 100"
   ]
  },
  {
   "cell_type": "markdown",
   "id": "f0530c1f",
   "metadata": {},
   "source": [
    "# 4. Limpieza de texto en columnas categóricas"
   ]
  },
  {
   "cell_type": "code",
   "execution_count": null,
   "id": "b5177e33",
   "metadata": {},
   "outputs": [],
   "source": [
    "df[\"Condition\"] = df[\"Condition\"].str.rstrip(\".\")"
   ]
  },
  {
   "cell_type": "markdown",
   "id": "ae24bb4c",
   "metadata": {},
   "source": [
    "# 5. Eliminar columnas duplicadas (mantener solo métricas en SI)"
   ]
  },
  {
   "cell_type": "code",
   "execution_count": null,
   "id": "e2dd01f5",
   "metadata": {},
   "outputs": [],
   "source": [
    "df = df.drop(\n",
    "    columns=[\"Temperature (°F)\", \"Wind Speed (mph)\", \"Pressure (Hg)\", \"Visibility (mi)\", \"Humidity (%)\"]\n",
    ")"
   ]
  },
  {
   "cell_type": "markdown",
   "id": "39cf486c",
   "metadata": {},
   "source": [
    "# 6. Guardar archivo limpio"
   ]
  },
  {
   "cell_type": "code",
   "execution_count": null,
   "id": "aefe9bf5",
   "metadata": {},
   "outputs": [],
   "source": [
    "output_path = r\"E:\\Downloads\\cleaned_weather_data.xlsx\"\n",
    "df.to_excel(output_path, index=False)\n",
    "\n",
    "print(\"Limpieza completada. Archivo guardado en:\", output_path)"
   ]
  }
 ],
 "metadata": {
  "language_info": {
   "name": "python"
  }
 },
 "nbformat": 4,
 "nbformat_minor": 5
}
